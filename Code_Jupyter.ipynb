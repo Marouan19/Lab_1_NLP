{
 "cells": [
  {
   "cell_type": "markdown",
   "source": [
    "<h1 style=\"text-align:center; font-size:200%;\">Atelier 1</h1>\n",
    "<h4 style=\"text-align:left;\">Réaliser par : DAGHMOUMI Marouan</h4>\n",
    "<h4 style=\"text-align:left;\">Encadrer par : AACHAK Lotfi</h4>"
   ],
   "metadata": {
    "collapsed": false
   },
   "id": "44aaa39e752d9a37"
  },
  {
   "cell_type": "markdown",
   "source": [
    "\n",
    "\n",
    "### 1.**Web Scraping**\n",
    "\n"
   ],
   "metadata": {
    "collapsed": false
   },
   "id": "53ab6862894b0a6d"
  },
  {
   "cell_type": "markdown",
   "source": [
    "\n",
    "\n",
    "*   Importation des bibliothèques\n",
    "\n"
   ],
   "metadata": {
    "collapsed": false
   },
   "id": "e06beb5a35d0226"
  },
  {
   "cell_type": "code",
   "execution_count": 1,
   "outputs": [],
   "source": [
    "import requests\n",
    "from bs4 import BeautifulSoup\n",
    "import csv\n",
    "from pymongo import MongoClient"
   ],
   "metadata": {
    "collapsed": false,
    "ExecuteTime": {
     "end_time": "2024-04-07T04:19:41.468144Z",
     "start_time": "2024-04-07T04:19:41.274918Z"
    }
   },
   "id": "d240a4e4e1d89cb"
  },
  {
   "cell_type": "code",
   "execution_count": 2,
   "outputs": [],
   "source": [
    "def main():\n",
    "    page = requests.get(\"https://www.bbc.com/arabic\")\n",
    "    src = page.content\n",
    "    soup = BeautifulSoup(src, \"lxml\")\n",
    "\n",
    "    titles = soup.find_all(\"a\", {'class': 'focusIndicatorDisplayBlock bbc-uk8dsi e1d658bg0'})\n",
    "    times = soup.find_all(\"time\", {'class': 'promo-timestamp bbc-1chh04s e1mklfmt0'})\n",
    "    return titles,times"
   ],
   "metadata": {
    "collapsed": false,
    "ExecuteTime": {
     "end_time": "2024-04-07T04:19:41.471262Z",
     "start_time": "2024-04-07T04:19:41.459065Z"
    }
   },
   "id": "efc39e1f4cde90db"
  },
  {
   "cell_type": "code",
   "execution_count": 3,
   "outputs": [],
   "source": [
    "def news_title(titles):\n",
    "    for title in titles:\n",
    "        news_title = title.text.strip()\n",
    "        print(news_title)"
   ],
   "metadata": {
    "collapsed": false,
    "ExecuteTime": {
     "end_time": "2024-04-07T04:19:41.471817Z",
     "start_time": "2024-04-07T04:19:41.463256Z"
    }
   },
   "id": "cf26398534254795"
  },
  {
   "cell_type": "code",
   "execution_count": 4,
   "outputs": [],
   "source": [
    "def news_time(times):\n",
    "    for time in times:\n",
    "        news_time = time.text.strip()\n",
    "        print(news_time)"
   ],
   "metadata": {
    "collapsed": false,
    "ExecuteTime": {
     "end_time": "2024-04-07T04:19:41.487725Z",
     "start_time": "2024-04-07T04:19:41.467709Z"
    }
   },
   "id": "8bbae3a3acc40c69"
  },
  {
   "cell_type": "code",
   "execution_count": 5,
   "outputs": [],
   "source": [
    "def store_titles_in_mongodb(titles):\n",
    "    client = MongoClient('localhost', 27017)\n",
    "    db = client['Data_News']\n",
    "    collection = db['news_titles']\n",
    "    for title in titles:\n",
    "        title_text = title.text.strip()\n",
    "        collection.insert_one({\"title\": title_text})"
   ],
   "metadata": {
    "collapsed": false,
    "ExecuteTime": {
     "end_time": "2024-04-07T04:19:41.489075Z",
     "start_time": "2024-04-07T04:19:41.474608Z"
    }
   },
   "id": "4d57c93011751cff"
  },
  {
   "cell_type": "code",
   "execution_count": 6,
   "outputs": [],
   "source": [
    "def mongodb():\n",
    "    titles = main()\n",
    "\n",
    "    # Remove the last three titles\n",
    "    titles = titles[:-3]\n",
    "\n",
    "    # Store the scraped titles into MongoDB\n",
    "    store_titles_in_mongodb(titles)"
   ],
   "metadata": {
    "collapsed": false,
    "ExecuteTime": {
     "end_time": "2024-04-07T04:19:41.504338Z",
     "start_time": "2024-04-07T04:19:41.478384Z"
    }
   },
   "id": "6391e266835356de"
  },
  {
   "cell_type": "code",
   "execution_count": 7,
   "outputs": [
    {
     "name": "stdout",
     "output_type": "stream",
     "text": [
      "بعد ستة أشهر من الحرب، هل اقتربت إسرائيل من القضاء على حماس؟\n",
      "كيف تجيب أداة الذكاء الاصطناعي من منظمة الصحة العالمية على الأسئلة الطبية الشائعة؟\n",
      "\"عندما تنتهي الحرب في غزة سأعيش في خيمة بجوار منزلي المُهدم\"\n",
      "من هو أحمد فتحي سرور الذي شيّعت جنازته في مصر؟\n",
      "كيف ينبغي لإيران أن ترد على هجوم إسرائيل في دمشق - مقال في طهران تايمز\n",
      "لماذا تطور البشر مع التكنولوجيا عبر الزمن؟\n",
      "مطالبات لإسرائيل بالنشر الكامل لتقرير حادثة مقتل عُمال المطبخ المركزي العالمي\n",
      "بي بي سي تكشف أخطاء جسيمة ارتكبها الجيش الإسرائيلي في تحذيرات إخلاء الغزيين\n",
      "كيف يمكن مشاهدة الكسوف الكلي للشمس بأمان؟\n",
      "فيديو, ما هو يوم القدس الذي تحييه دول عربية وإسلامية في رمضان كل عام؟المدة, 1,09\n",
      "فيديو, تحذيرات الجيش الإسرائيلي لسكان غزة للإخلاء تحتوي على العديد من الأخطاء بحسب تحقيق لبي بي سيالمدة, 4,05\n",
      "فيديو, كيف أصبحت \"الخرطوم الصغيرة\" في السعودية؟المدة, 2,07\n",
      "فيديو, خمسة أسباب لانخراط إيران في صراعات عالميةالمدة, 15,30\n",
      "فيديو, باسم يوسف يتحدث عن الكوميديا ووسائل التواصل الاجتماعي وعدم الأمانالمدة, 2,32\n",
      "إسرائيل تُعلن السماح بإدخال المساعدات الإنسانية إلى شمال قطاع غزة مؤقتاً\n",
      "من هو رون آراد ولماذا تخشى عائلات المحتجزين الإسرائيليين تكرار مصيره؟\n",
      "ماكدونالدز تسترد ملكية فروع مطاعمها في إسرائيل\n",
      "ماذا نعرف عن موظفي \"المطبخ العالمي\" الذين قتلوا في غزة؟\n",
      "اعتقال شقيقة إسماعيل هنية بتهمة التحريض على \"أعمال إرهابية\"\n",
      "حجم المعاناة في غزة يجعل من الصعب نفي الاتهامات بارتكاب \"جرائم حرب\" - الغارديان\n",
      "فيديو, بوتسوانا تهدد بإرسال 20 ألف فيل هدية لألمانيا!المدة, 4,42\n",
      "فيديو, مشاهد للحظة زلزال بقوة 7.4 درجة ضرب تايوانالمدة, 0,49\n",
      "لماذا تشهد الأرض زيادة مستمرة في درجات الحرارة؟\n",
      "نشطاء: \"الكنوز\" التي تملأ منازلنا في تزايد\n",
      "سامسونغ تشهد قفزة في الأرباح بأكثر من 900 في المئة\n",
      "غوغل يفكر في فرض رسوم على استخدامات الذكاء الاصطناعي\n",
      "هل تنقذ \"منصة ترامب\" المرشح الرئاسي من متاعبه المالية؟\n",
      "كيف يستخدم المحتالون \"فيسبوك ماركت\" للنصب على ضحاياهم؟\n",
      "البنكرياس الصناعي: تكنولوجيا جديدة لمساعدة مرضى داء السكري\n",
      "كيف تؤثر قلة النوم على شعورك بالشباب؟\n",
      "كيف يمكن للكسوف الكلي للشمس أن يؤثر على الحالة النفسية؟\n",
      "\"المذبحة والمجاعة في غزة أعمال وحشية نطالب بوضع حد لها\" – الغارديان\n",
      "لماذا لا يتقبل بعض الناس المجاملات؟\n",
      "\"محاربو التيراكوتا\" يكشفون أسرارا مذهلة عن الحياة في الصين قبل 2,200 عام\n",
      "تغير المناخ يؤثر على سرعة دوران الأرض وقد يؤدي إلى تغير ضبط الوقت العالمي\n",
      "ألف ليلة وليلة: الجذور التاريخية للكتاب الأكثر سحرا في الشرق والغرب\n",
      "إيناكي ونيكو ويليامز: شقيقان، فريق واحد وانتظار لمدة 40 عامًا\n",
      "فيديو, بعد \"القبلة القسرية\"، قضية فساد تربط رئيس اتحاد كرة القدم الإسباني السابق والسعوديةالمدة, 3,39\n",
      "الدوري الإنجليزي: صراع الصدارة يحتدم في الأمتار الأخيرة... فمن يحسم اللقب؟\n",
      "نادي الهلال السوداني يواصل اللعب \"لإلهاء الناس عن الحرب\"\n",
      "ما هو لباس \"الجبة القبائلية\" الأمازيغي الذي طردت بسببه طالبة في الجزائر؟\n",
      "لماذا أغضب خطاب ماكرون مغاربة؟\n",
      "زلزال المغرب: تفاعل مؤثر على مواقع التواصل الاجتماعي\n",
      "ما ملابسات اختفاء اليوتيوبر العماني حارث الشريقي؟\n",
      "فيديو, المسجد النبوي.. جدل بسبب دعاء على المظاهرات والثوراتالمدة, 3,55\n",
      "فيديو, مصر للطيران تبيع 12 طائرة \"لعدم ملاءمتها لأجواء مصر  المناخية\"المدة, 7,23\n",
      "فيديو, سرقة 30 مليون دولار نقدا من منشأة لتخزين الأموال في الولايات المتحدةالمدة, 2,35\n",
      "حاصباني في بلا قيود : حزب الله يعمل كقاعدة  عسكرية تأتمر بإيران\n",
      "\"أنا مسيحي لكني أصوم شهر رمضان كاملاً\"\n",
      "لماذا يُشكِّل إعفاء الحريديم من الخدمة العسكرية جدلاً في إسرائيل؟\n",
      "من شولا كوهين إلى إم كامل، كيف تجمع إسرائيل معلوماتها من لبنان؟\n",
      "نساء عربيات دوّت أصواتهن سعياً لتحرير بلادهن\n",
      "الكرامة: حكاية آخر معركة اتحد فيها المقاتلون الفلسطينيون والجيش الأردني ضد إسرائيل\n",
      "مم يتكون الجيش الإسرائيلي وما هي الأقليات التي تخدم فيه؟\n",
      "هل اقترب نشوب صراع شامل بين إسرائيل وحزب الله؟\n",
      "فيسبوك | BBCNewsArabic@\n",
      "إكس | BBCArabic@\n",
      "إنستغرام | BBCArabic@\n",
      "يوتيوب | BBCArabic@\n",
      "وظائف شاغرة في بي بي سي عربي\n",
      "شركاؤنا\n",
      "كيف تتصفح مواقع بي بي سي رغم المنع؟\n"
     ]
    }
   ],
   "source": [
    "titles, times = main()\n",
    "news_title(titles)"
   ],
   "metadata": {
    "collapsed": false,
    "ExecuteTime": {
     "end_time": "2024-04-07T04:19:42.525974Z",
     "start_time": "2024-04-07T04:19:41.482928Z"
    }
   },
   "id": "7d3b2e61989bd8e2"
  },
  {
   "cell_type": "code",
   "execution_count": 8,
   "outputs": [
    {
     "name": "stdout",
     "output_type": "stream",
     "text": [
      "6 أبريل/ نيسان 2024\n",
      "قبل ساعة واحدة\n",
      "قبل 8 ساعة\n",
      "6 أبريل/ نيسان 2024\n",
      "6 أبريل/ نيسان 2024\n",
      "قبل 7 ساعة\n",
      "6 أبريل/ نيسان 2024\n",
      "6 أبريل/ نيسان 2024\n",
      "6 أبريل/ نيسان 2024\n",
      "5 أبريل/ نيسان 2024\n",
      "4 أبريل/ نيسان 2024\n",
      "5 أبريل/ نيسان 2024\n",
      "3 أبريل/ نيسان 2024\n",
      "4 أبريل/ نيسان 2024\n",
      "5 أبريل/ نيسان 2024\n",
      "5 أبريل/ نيسان 2024\n",
      "5 أبريل/ نيسان 2024\n",
      "2 أبريل/ نيسان 2024\n",
      "1 أبريل/ نيسان 2024\n",
      "31 مارس/ آذار 2024\n",
      "5 أبريل/ نيسان 2024\n",
      "3 أبريل/ نيسان 2024\n",
      "30 مارس/ آذار 2024\n",
      "29 مارس/ آذار 2024\n",
      "6 أبريل/ نيسان 2024\n",
      "4 أبريل/ نيسان 2024\n",
      "3 أبريل/ نيسان 2024\n",
      "2 أبريل/ نيسان 2024\n",
      "6 أبريل/ نيسان 2024\n",
      "5 أبريل/ نيسان 2024\n",
      "5 أبريل/ نيسان 2024\n",
      "4 أبريل/ نيسان 2024\n",
      "5 أبريل/ نيسان 2024\n",
      "29 مارس/ آذار 2024\n",
      "28 مارس/ آذار 2024\n",
      "26 مارس/ آذار 2024\n",
      "5 أبريل/ نيسان 2024\n",
      "4 أبريل/ نيسان 2024\n",
      "4 أبريل/ نيسان 2024\n",
      "2 أبريل/ نيسان 2024\n",
      "22 سبتمبر/ أيلول 2023\n",
      "16 سبتمبر/ أيلول 2023\n",
      "10 سبتمبر/ أيلول 2023\n",
      "6 سبتمبر/ أيلول 2023\n",
      "5 أبريل/ نيسان 2024\n",
      "5 أبريل/ نيسان 2024\n",
      "5 أبريل/ نيسان 2024\n",
      "5 أبريل/ نيسان 2024\n",
      "3 أبريل/ نيسان 2024\n",
      "29 مارس/ آذار 2024\n",
      "28 مارس/ آذار 2024\n",
      "28 مارس/ آذار 2024\n",
      "21 مارس/ آذار 2024\n",
      "20 مارس/ آذار 2024\n",
      "17 مارس/ آذار 2024\n",
      "29 مارس/ آذار 2024\n"
     ]
    }
   ],
   "source": [
    "news_time(times)"
   ],
   "metadata": {
    "collapsed": false,
    "ExecuteTime": {
     "end_time": "2024-04-07T04:19:42.526781Z",
     "start_time": "2024-04-07T04:19:42.517743Z"
    }
   },
   "id": "72dfc9497921d3d3"
  },
  {
   "cell_type": "code",
   "execution_count": 9,
   "outputs": [],
   "source": [
    "mongodb()"
   ],
   "metadata": {
    "collapsed": false,
    "ExecuteTime": {
     "end_time": "2024-04-07T04:19:43.189904Z",
     "start_time": "2024-04-07T04:19:42.521431Z"
    }
   },
   "id": "b33363ff3fedd24a"
  },
  {
   "cell_type": "code",
   "execution_count": 10,
   "outputs": [
    {
     "name": "stdout",
     "output_type": "stream",
     "text": [
      "Title: ماذا نعرف عن الفلسطيني الذي قُتل ضمن فريق المطبخ المركزي العالمي في غزة؟\n",
      "Time: قبل 8 دقيقة\n",
      "Writer:\n"
     ]
    },
    {
     "ename": "KeyboardInterrupt",
     "evalue": "",
     "output_type": "error",
     "traceback": [
      "\u001B[0;31m---------------------------------------------------------------------------\u001B[0m",
      "\u001B[0;31mKeyboardInterrupt\u001B[0m                         Traceback (most recent call last)",
      "Cell \u001B[0;32mIn[10], line 63\u001B[0m\n\u001B[1;32m     60\u001B[0m         \u001B[38;5;28mprint\u001B[39m(\u001B[38;5;124mf\u001B[39m\u001B[38;5;124m\"\u001B[39m\u001B[38;5;124mError: \u001B[39m\u001B[38;5;132;01m{\u001B[39;00m\u001B[38;5;28mstr\u001B[39m(e)\u001B[38;5;132;01m}\u001B[39;00m\u001B[38;5;124m\"\u001B[39m)\n\u001B[1;32m     62\u001B[0m \u001B[38;5;28;01mif\u001B[39;00m \u001B[38;5;18m__name__\u001B[39m \u001B[38;5;241m==\u001B[39m \u001B[38;5;124m\"\u001B[39m\u001B[38;5;124m__main__\u001B[39m\u001B[38;5;124m\"\u001B[39m:\n\u001B[0;32m---> 63\u001B[0m     \u001B[43mmain\u001B[49m\u001B[43m(\u001B[49m\u001B[43m)\u001B[49m\n",
      "Cell \u001B[0;32mIn[10], line 55\u001B[0m, in \u001B[0;36mmain\u001B[0;34m()\u001B[0m\n\u001B[1;32m     53\u001B[0m \u001B[38;5;66;03m# Visit each link and get the content\u001B[39;00m\n\u001B[1;32m     54\u001B[0m \u001B[38;5;28mprint\u001B[39m(\u001B[38;5;124m\"\u001B[39m\u001B[38;5;124mWriter:\u001B[39m\u001B[38;5;124m\"\u001B[39m)\n\u001B[0;32m---> 55\u001B[0m \u001B[43mget_writer_from_link\u001B[49m\u001B[43m(\u001B[49m\u001B[43mhref\u001B[49m\u001B[43m)\u001B[49m\n\u001B[1;32m     56\u001B[0m \u001B[38;5;28mprint\u001B[39m(\u001B[38;5;124m\"\u001B[39m\u001B[38;5;124mContent:\u001B[39m\u001B[38;5;124m\"\u001B[39m)\n\u001B[1;32m     57\u001B[0m get_content_from_link(href)\n",
      "Cell \u001B[0;32mIn[10], line 21\u001B[0m, in \u001B[0;36mget_writer_from_link\u001B[0;34m(link)\u001B[0m\n\u001B[1;32m     18\u001B[0m \u001B[38;5;28;01mdef\u001B[39;00m \u001B[38;5;21mget_writer_from_link\u001B[39m(link):\n\u001B[1;32m     19\u001B[0m     \u001B[38;5;28;01mtry\u001B[39;00m:\n\u001B[1;32m     20\u001B[0m         \u001B[38;5;66;03m# Send a GET request to the link\u001B[39;00m\n\u001B[0;32m---> 21\u001B[0m         response \u001B[38;5;241m=\u001B[39m \u001B[43mrequests\u001B[49m\u001B[38;5;241;43m.\u001B[39;49m\u001B[43mget\u001B[49m\u001B[43m(\u001B[49m\u001B[43mlink\u001B[49m\u001B[43m)\u001B[49m\n\u001B[1;32m     22\u001B[0m         \u001B[38;5;66;03m# Parse the HTML content of the page\u001B[39;00m\n\u001B[1;32m     23\u001B[0m         soup \u001B[38;5;241m=\u001B[39m BeautifulSoup(response\u001B[38;5;241m.\u001B[39mcontent, \u001B[38;5;124m'\u001B[39m\u001B[38;5;124mhtml.parser\u001B[39m\u001B[38;5;124m'\u001B[39m)\n",
      "File \u001B[0;32m/Library/Frameworks/Python.framework/Versions/3.11/lib/python3.11/site-packages/requests/api.py:73\u001B[0m, in \u001B[0;36mget\u001B[0;34m(url, params, **kwargs)\u001B[0m\n\u001B[1;32m     62\u001B[0m \u001B[38;5;28;01mdef\u001B[39;00m \u001B[38;5;21mget\u001B[39m(url, params\u001B[38;5;241m=\u001B[39m\u001B[38;5;28;01mNone\u001B[39;00m, \u001B[38;5;241m*\u001B[39m\u001B[38;5;241m*\u001B[39mkwargs):\n\u001B[1;32m     63\u001B[0m \u001B[38;5;250m    \u001B[39m\u001B[38;5;124mr\u001B[39m\u001B[38;5;124;03m\"\"\"Sends a GET request.\u001B[39;00m\n\u001B[1;32m     64\u001B[0m \n\u001B[1;32m     65\u001B[0m \u001B[38;5;124;03m    :param url: URL for the new :class:`Request` object.\u001B[39;00m\n\u001B[0;32m   (...)\u001B[0m\n\u001B[1;32m     70\u001B[0m \u001B[38;5;124;03m    :rtype: requests.Response\u001B[39;00m\n\u001B[1;32m     71\u001B[0m \u001B[38;5;124;03m    \"\"\"\u001B[39;00m\n\u001B[0;32m---> 73\u001B[0m     \u001B[38;5;28;01mreturn\u001B[39;00m \u001B[43mrequest\u001B[49m\u001B[43m(\u001B[49m\u001B[38;5;124;43m\"\u001B[39;49m\u001B[38;5;124;43mget\u001B[39;49m\u001B[38;5;124;43m\"\u001B[39;49m\u001B[43m,\u001B[49m\u001B[43m \u001B[49m\u001B[43murl\u001B[49m\u001B[43m,\u001B[49m\u001B[43m \u001B[49m\u001B[43mparams\u001B[49m\u001B[38;5;241;43m=\u001B[39;49m\u001B[43mparams\u001B[49m\u001B[43m,\u001B[49m\u001B[43m \u001B[49m\u001B[38;5;241;43m*\u001B[39;49m\u001B[38;5;241;43m*\u001B[39;49m\u001B[43mkwargs\u001B[49m\u001B[43m)\u001B[49m\n",
      "File \u001B[0;32m/Library/Frameworks/Python.framework/Versions/3.11/lib/python3.11/site-packages/requests/api.py:59\u001B[0m, in \u001B[0;36mrequest\u001B[0;34m(method, url, **kwargs)\u001B[0m\n\u001B[1;32m     55\u001B[0m \u001B[38;5;66;03m# By using the 'with' statement we are sure the session is closed, thus we\u001B[39;00m\n\u001B[1;32m     56\u001B[0m \u001B[38;5;66;03m# avoid leaving sockets open which can trigger a ResourceWarning in some\u001B[39;00m\n\u001B[1;32m     57\u001B[0m \u001B[38;5;66;03m# cases, and look like a memory leak in others.\u001B[39;00m\n\u001B[1;32m     58\u001B[0m \u001B[38;5;28;01mwith\u001B[39;00m sessions\u001B[38;5;241m.\u001B[39mSession() \u001B[38;5;28;01mas\u001B[39;00m session:\n\u001B[0;32m---> 59\u001B[0m     \u001B[38;5;28;01mreturn\u001B[39;00m \u001B[43msession\u001B[49m\u001B[38;5;241;43m.\u001B[39;49m\u001B[43mrequest\u001B[49m\u001B[43m(\u001B[49m\u001B[43mmethod\u001B[49m\u001B[38;5;241;43m=\u001B[39;49m\u001B[43mmethod\u001B[49m\u001B[43m,\u001B[49m\u001B[43m \u001B[49m\u001B[43murl\u001B[49m\u001B[38;5;241;43m=\u001B[39;49m\u001B[43murl\u001B[49m\u001B[43m,\u001B[49m\u001B[43m \u001B[49m\u001B[38;5;241;43m*\u001B[39;49m\u001B[38;5;241;43m*\u001B[39;49m\u001B[43mkwargs\u001B[49m\u001B[43m)\u001B[49m\n",
      "File \u001B[0;32m/Library/Frameworks/Python.framework/Versions/3.11/lib/python3.11/site-packages/requests/sessions.py:589\u001B[0m, in \u001B[0;36mSession.request\u001B[0;34m(self, method, url, params, data, headers, cookies, files, auth, timeout, allow_redirects, proxies, hooks, stream, verify, cert, json)\u001B[0m\n\u001B[1;32m    584\u001B[0m send_kwargs \u001B[38;5;241m=\u001B[39m {\n\u001B[1;32m    585\u001B[0m     \u001B[38;5;124m\"\u001B[39m\u001B[38;5;124mtimeout\u001B[39m\u001B[38;5;124m\"\u001B[39m: timeout,\n\u001B[1;32m    586\u001B[0m     \u001B[38;5;124m\"\u001B[39m\u001B[38;5;124mallow_redirects\u001B[39m\u001B[38;5;124m\"\u001B[39m: allow_redirects,\n\u001B[1;32m    587\u001B[0m }\n\u001B[1;32m    588\u001B[0m send_kwargs\u001B[38;5;241m.\u001B[39mupdate(settings)\n\u001B[0;32m--> 589\u001B[0m resp \u001B[38;5;241m=\u001B[39m \u001B[38;5;28;43mself\u001B[39;49m\u001B[38;5;241;43m.\u001B[39;49m\u001B[43msend\u001B[49m\u001B[43m(\u001B[49m\u001B[43mprep\u001B[49m\u001B[43m,\u001B[49m\u001B[43m \u001B[49m\u001B[38;5;241;43m*\u001B[39;49m\u001B[38;5;241;43m*\u001B[39;49m\u001B[43msend_kwargs\u001B[49m\u001B[43m)\u001B[49m\n\u001B[1;32m    591\u001B[0m \u001B[38;5;28;01mreturn\u001B[39;00m resp\n",
      "File \u001B[0;32m/Library/Frameworks/Python.framework/Versions/3.11/lib/python3.11/site-packages/requests/sessions.py:703\u001B[0m, in \u001B[0;36mSession.send\u001B[0;34m(self, request, **kwargs)\u001B[0m\n\u001B[1;32m    700\u001B[0m start \u001B[38;5;241m=\u001B[39m preferred_clock()\n\u001B[1;32m    702\u001B[0m \u001B[38;5;66;03m# Send the request\u001B[39;00m\n\u001B[0;32m--> 703\u001B[0m r \u001B[38;5;241m=\u001B[39m \u001B[43madapter\u001B[49m\u001B[38;5;241;43m.\u001B[39;49m\u001B[43msend\u001B[49m\u001B[43m(\u001B[49m\u001B[43mrequest\u001B[49m\u001B[43m,\u001B[49m\u001B[43m \u001B[49m\u001B[38;5;241;43m*\u001B[39;49m\u001B[38;5;241;43m*\u001B[39;49m\u001B[43mkwargs\u001B[49m\u001B[43m)\u001B[49m\n\u001B[1;32m    705\u001B[0m \u001B[38;5;66;03m# Total elapsed time of the request (approximately)\u001B[39;00m\n\u001B[1;32m    706\u001B[0m elapsed \u001B[38;5;241m=\u001B[39m preferred_clock() \u001B[38;5;241m-\u001B[39m start\n",
      "File \u001B[0;32m/Library/Frameworks/Python.framework/Versions/3.11/lib/python3.11/site-packages/requests/adapters.py:486\u001B[0m, in \u001B[0;36mHTTPAdapter.send\u001B[0;34m(self, request, stream, timeout, verify, cert, proxies)\u001B[0m\n\u001B[1;32m    483\u001B[0m     timeout \u001B[38;5;241m=\u001B[39m TimeoutSauce(connect\u001B[38;5;241m=\u001B[39mtimeout, read\u001B[38;5;241m=\u001B[39mtimeout)\n\u001B[1;32m    485\u001B[0m \u001B[38;5;28;01mtry\u001B[39;00m:\n\u001B[0;32m--> 486\u001B[0m     resp \u001B[38;5;241m=\u001B[39m \u001B[43mconn\u001B[49m\u001B[38;5;241;43m.\u001B[39;49m\u001B[43murlopen\u001B[49m\u001B[43m(\u001B[49m\n\u001B[1;32m    487\u001B[0m \u001B[43m        \u001B[49m\u001B[43mmethod\u001B[49m\u001B[38;5;241;43m=\u001B[39;49m\u001B[43mrequest\u001B[49m\u001B[38;5;241;43m.\u001B[39;49m\u001B[43mmethod\u001B[49m\u001B[43m,\u001B[49m\n\u001B[1;32m    488\u001B[0m \u001B[43m        \u001B[49m\u001B[43murl\u001B[49m\u001B[38;5;241;43m=\u001B[39;49m\u001B[43murl\u001B[49m\u001B[43m,\u001B[49m\n\u001B[1;32m    489\u001B[0m \u001B[43m        \u001B[49m\u001B[43mbody\u001B[49m\u001B[38;5;241;43m=\u001B[39;49m\u001B[43mrequest\u001B[49m\u001B[38;5;241;43m.\u001B[39;49m\u001B[43mbody\u001B[49m\u001B[43m,\u001B[49m\n\u001B[1;32m    490\u001B[0m \u001B[43m        \u001B[49m\u001B[43mheaders\u001B[49m\u001B[38;5;241;43m=\u001B[39;49m\u001B[43mrequest\u001B[49m\u001B[38;5;241;43m.\u001B[39;49m\u001B[43mheaders\u001B[49m\u001B[43m,\u001B[49m\n\u001B[1;32m    491\u001B[0m \u001B[43m        \u001B[49m\u001B[43mredirect\u001B[49m\u001B[38;5;241;43m=\u001B[39;49m\u001B[38;5;28;43;01mFalse\u001B[39;49;00m\u001B[43m,\u001B[49m\n\u001B[1;32m    492\u001B[0m \u001B[43m        \u001B[49m\u001B[43massert_same_host\u001B[49m\u001B[38;5;241;43m=\u001B[39;49m\u001B[38;5;28;43;01mFalse\u001B[39;49;00m\u001B[43m,\u001B[49m\n\u001B[1;32m    493\u001B[0m \u001B[43m        \u001B[49m\u001B[43mpreload_content\u001B[49m\u001B[38;5;241;43m=\u001B[39;49m\u001B[38;5;28;43;01mFalse\u001B[39;49;00m\u001B[43m,\u001B[49m\n\u001B[1;32m    494\u001B[0m \u001B[43m        \u001B[49m\u001B[43mdecode_content\u001B[49m\u001B[38;5;241;43m=\u001B[39;49m\u001B[38;5;28;43;01mFalse\u001B[39;49;00m\u001B[43m,\u001B[49m\n\u001B[1;32m    495\u001B[0m \u001B[43m        \u001B[49m\u001B[43mretries\u001B[49m\u001B[38;5;241;43m=\u001B[39;49m\u001B[38;5;28;43mself\u001B[39;49m\u001B[38;5;241;43m.\u001B[39;49m\u001B[43mmax_retries\u001B[49m\u001B[43m,\u001B[49m\n\u001B[1;32m    496\u001B[0m \u001B[43m        \u001B[49m\u001B[43mtimeout\u001B[49m\u001B[38;5;241;43m=\u001B[39;49m\u001B[43mtimeout\u001B[49m\u001B[43m,\u001B[49m\n\u001B[1;32m    497\u001B[0m \u001B[43m        \u001B[49m\u001B[43mchunked\u001B[49m\u001B[38;5;241;43m=\u001B[39;49m\u001B[43mchunked\u001B[49m\u001B[43m,\u001B[49m\n\u001B[1;32m    498\u001B[0m \u001B[43m    \u001B[49m\u001B[43m)\u001B[49m\n\u001B[1;32m    500\u001B[0m \u001B[38;5;28;01mexcept\u001B[39;00m (ProtocolError, \u001B[38;5;167;01mOSError\u001B[39;00m) \u001B[38;5;28;01mas\u001B[39;00m err:\n\u001B[1;32m    501\u001B[0m     \u001B[38;5;28;01mraise\u001B[39;00m \u001B[38;5;167;01mConnectionError\u001B[39;00m(err, request\u001B[38;5;241m=\u001B[39mrequest)\n",
      "File \u001B[0;32m/Library/Frameworks/Python.framework/Versions/3.11/lib/python3.11/site-packages/urllib3/connectionpool.py:703\u001B[0m, in \u001B[0;36mHTTPConnectionPool.urlopen\u001B[0;34m(self, method, url, body, headers, retries, redirect, assert_same_host, timeout, pool_timeout, release_conn, chunked, body_pos, **response_kw)\u001B[0m\n\u001B[1;32m    700\u001B[0m     \u001B[38;5;28mself\u001B[39m\u001B[38;5;241m.\u001B[39m_prepare_proxy(conn)\n\u001B[1;32m    702\u001B[0m \u001B[38;5;66;03m# Make the request on the httplib connection object.\u001B[39;00m\n\u001B[0;32m--> 703\u001B[0m httplib_response \u001B[38;5;241m=\u001B[39m \u001B[38;5;28;43mself\u001B[39;49m\u001B[38;5;241;43m.\u001B[39;49m\u001B[43m_make_request\u001B[49m\u001B[43m(\u001B[49m\n\u001B[1;32m    704\u001B[0m \u001B[43m    \u001B[49m\u001B[43mconn\u001B[49m\u001B[43m,\u001B[49m\n\u001B[1;32m    705\u001B[0m \u001B[43m    \u001B[49m\u001B[43mmethod\u001B[49m\u001B[43m,\u001B[49m\n\u001B[1;32m    706\u001B[0m \u001B[43m    \u001B[49m\u001B[43murl\u001B[49m\u001B[43m,\u001B[49m\n\u001B[1;32m    707\u001B[0m \u001B[43m    \u001B[49m\u001B[43mtimeout\u001B[49m\u001B[38;5;241;43m=\u001B[39;49m\u001B[43mtimeout_obj\u001B[49m\u001B[43m,\u001B[49m\n\u001B[1;32m    708\u001B[0m \u001B[43m    \u001B[49m\u001B[43mbody\u001B[49m\u001B[38;5;241;43m=\u001B[39;49m\u001B[43mbody\u001B[49m\u001B[43m,\u001B[49m\n\u001B[1;32m    709\u001B[0m \u001B[43m    \u001B[49m\u001B[43mheaders\u001B[49m\u001B[38;5;241;43m=\u001B[39;49m\u001B[43mheaders\u001B[49m\u001B[43m,\u001B[49m\n\u001B[1;32m    710\u001B[0m \u001B[43m    \u001B[49m\u001B[43mchunked\u001B[49m\u001B[38;5;241;43m=\u001B[39;49m\u001B[43mchunked\u001B[49m\u001B[43m,\u001B[49m\n\u001B[1;32m    711\u001B[0m \u001B[43m\u001B[49m\u001B[43m)\u001B[49m\n\u001B[1;32m    713\u001B[0m \u001B[38;5;66;03m# If we're going to release the connection in ``finally:``, then\u001B[39;00m\n\u001B[1;32m    714\u001B[0m \u001B[38;5;66;03m# the response doesn't need to know about the connection. Otherwise\u001B[39;00m\n\u001B[1;32m    715\u001B[0m \u001B[38;5;66;03m# it will also try to release it and we'll have a double-release\u001B[39;00m\n\u001B[1;32m    716\u001B[0m \u001B[38;5;66;03m# mess.\u001B[39;00m\n\u001B[1;32m    717\u001B[0m response_conn \u001B[38;5;241m=\u001B[39m conn \u001B[38;5;28;01mif\u001B[39;00m \u001B[38;5;129;01mnot\u001B[39;00m release_conn \u001B[38;5;28;01melse\u001B[39;00m \u001B[38;5;28;01mNone\u001B[39;00m\n",
      "File \u001B[0;32m/Library/Frameworks/Python.framework/Versions/3.11/lib/python3.11/site-packages/urllib3/connectionpool.py:386\u001B[0m, in \u001B[0;36mHTTPConnectionPool._make_request\u001B[0;34m(self, conn, method, url, timeout, chunked, **httplib_request_kw)\u001B[0m\n\u001B[1;32m    384\u001B[0m \u001B[38;5;66;03m# Trigger any extra validation we need to do.\u001B[39;00m\n\u001B[1;32m    385\u001B[0m \u001B[38;5;28;01mtry\u001B[39;00m:\n\u001B[0;32m--> 386\u001B[0m     \u001B[38;5;28;43mself\u001B[39;49m\u001B[38;5;241;43m.\u001B[39;49m\u001B[43m_validate_conn\u001B[49m\u001B[43m(\u001B[49m\u001B[43mconn\u001B[49m\u001B[43m)\u001B[49m\n\u001B[1;32m    387\u001B[0m \u001B[38;5;28;01mexcept\u001B[39;00m (SocketTimeout, BaseSSLError) \u001B[38;5;28;01mas\u001B[39;00m e:\n\u001B[1;32m    388\u001B[0m     \u001B[38;5;66;03m# Py2 raises this as a BaseSSLError, Py3 raises it as socket timeout.\u001B[39;00m\n\u001B[1;32m    389\u001B[0m     \u001B[38;5;28mself\u001B[39m\u001B[38;5;241m.\u001B[39m_raise_timeout(err\u001B[38;5;241m=\u001B[39me, url\u001B[38;5;241m=\u001B[39murl, timeout_value\u001B[38;5;241m=\u001B[39mconn\u001B[38;5;241m.\u001B[39mtimeout)\n",
      "File \u001B[0;32m/Library/Frameworks/Python.framework/Versions/3.11/lib/python3.11/site-packages/urllib3/connectionpool.py:1042\u001B[0m, in \u001B[0;36mHTTPSConnectionPool._validate_conn\u001B[0;34m(self, conn)\u001B[0m\n\u001B[1;32m   1040\u001B[0m \u001B[38;5;66;03m# Force connect early to allow us to validate the connection.\u001B[39;00m\n\u001B[1;32m   1041\u001B[0m \u001B[38;5;28;01mif\u001B[39;00m \u001B[38;5;129;01mnot\u001B[39;00m \u001B[38;5;28mgetattr\u001B[39m(conn, \u001B[38;5;124m\"\u001B[39m\u001B[38;5;124msock\u001B[39m\u001B[38;5;124m\"\u001B[39m, \u001B[38;5;28;01mNone\u001B[39;00m):  \u001B[38;5;66;03m# AppEngine might not have  `.sock`\u001B[39;00m\n\u001B[0;32m-> 1042\u001B[0m     \u001B[43mconn\u001B[49m\u001B[38;5;241;43m.\u001B[39;49m\u001B[43mconnect\u001B[49m\u001B[43m(\u001B[49m\u001B[43m)\u001B[49m\n\u001B[1;32m   1044\u001B[0m \u001B[38;5;28;01mif\u001B[39;00m \u001B[38;5;129;01mnot\u001B[39;00m conn\u001B[38;5;241m.\u001B[39mis_verified:\n\u001B[1;32m   1045\u001B[0m     warnings\u001B[38;5;241m.\u001B[39mwarn(\n\u001B[1;32m   1046\u001B[0m         (\n\u001B[1;32m   1047\u001B[0m             \u001B[38;5;124m\"\u001B[39m\u001B[38;5;124mUnverified HTTPS request is being made to host \u001B[39m\u001B[38;5;124m'\u001B[39m\u001B[38;5;132;01m%s\u001B[39;00m\u001B[38;5;124m'\u001B[39m\u001B[38;5;124m. \u001B[39m\u001B[38;5;124m\"\u001B[39m\n\u001B[0;32m   (...)\u001B[0m\n\u001B[1;32m   1052\u001B[0m         InsecureRequestWarning,\n\u001B[1;32m   1053\u001B[0m     )\n",
      "File \u001B[0;32m/Library/Frameworks/Python.framework/Versions/3.11/lib/python3.11/site-packages/urllib3/connection.py:419\u001B[0m, in \u001B[0;36mHTTPSConnection.connect\u001B[0;34m(self)\u001B[0m\n\u001B[1;32m    410\u001B[0m \u001B[38;5;28;01mif\u001B[39;00m (\n\u001B[1;32m    411\u001B[0m     \u001B[38;5;129;01mnot\u001B[39;00m \u001B[38;5;28mself\u001B[39m\u001B[38;5;241m.\u001B[39mca_certs\n\u001B[1;32m    412\u001B[0m     \u001B[38;5;129;01mand\u001B[39;00m \u001B[38;5;129;01mnot\u001B[39;00m \u001B[38;5;28mself\u001B[39m\u001B[38;5;241m.\u001B[39mca_cert_dir\n\u001B[0;32m   (...)\u001B[0m\n\u001B[1;32m    415\u001B[0m     \u001B[38;5;129;01mand\u001B[39;00m \u001B[38;5;28mhasattr\u001B[39m(context, \u001B[38;5;124m\"\u001B[39m\u001B[38;5;124mload_default_certs\u001B[39m\u001B[38;5;124m\"\u001B[39m)\n\u001B[1;32m    416\u001B[0m ):\n\u001B[1;32m    417\u001B[0m     context\u001B[38;5;241m.\u001B[39mload_default_certs()\n\u001B[0;32m--> 419\u001B[0m \u001B[38;5;28mself\u001B[39m\u001B[38;5;241m.\u001B[39msock \u001B[38;5;241m=\u001B[39m \u001B[43mssl_wrap_socket\u001B[49m\u001B[43m(\u001B[49m\n\u001B[1;32m    420\u001B[0m \u001B[43m    \u001B[49m\u001B[43msock\u001B[49m\u001B[38;5;241;43m=\u001B[39;49m\u001B[43mconn\u001B[49m\u001B[43m,\u001B[49m\n\u001B[1;32m    421\u001B[0m \u001B[43m    \u001B[49m\u001B[43mkeyfile\u001B[49m\u001B[38;5;241;43m=\u001B[39;49m\u001B[38;5;28;43mself\u001B[39;49m\u001B[38;5;241;43m.\u001B[39;49m\u001B[43mkey_file\u001B[49m\u001B[43m,\u001B[49m\n\u001B[1;32m    422\u001B[0m \u001B[43m    \u001B[49m\u001B[43mcertfile\u001B[49m\u001B[38;5;241;43m=\u001B[39;49m\u001B[38;5;28;43mself\u001B[39;49m\u001B[38;5;241;43m.\u001B[39;49m\u001B[43mcert_file\u001B[49m\u001B[43m,\u001B[49m\n\u001B[1;32m    423\u001B[0m \u001B[43m    \u001B[49m\u001B[43mkey_password\u001B[49m\u001B[38;5;241;43m=\u001B[39;49m\u001B[38;5;28;43mself\u001B[39;49m\u001B[38;5;241;43m.\u001B[39;49m\u001B[43mkey_password\u001B[49m\u001B[43m,\u001B[49m\n\u001B[1;32m    424\u001B[0m \u001B[43m    \u001B[49m\u001B[43mca_certs\u001B[49m\u001B[38;5;241;43m=\u001B[39;49m\u001B[38;5;28;43mself\u001B[39;49m\u001B[38;5;241;43m.\u001B[39;49m\u001B[43mca_certs\u001B[49m\u001B[43m,\u001B[49m\n\u001B[1;32m    425\u001B[0m \u001B[43m    \u001B[49m\u001B[43mca_cert_dir\u001B[49m\u001B[38;5;241;43m=\u001B[39;49m\u001B[38;5;28;43mself\u001B[39;49m\u001B[38;5;241;43m.\u001B[39;49m\u001B[43mca_cert_dir\u001B[49m\u001B[43m,\u001B[49m\n\u001B[1;32m    426\u001B[0m \u001B[43m    \u001B[49m\u001B[43mca_cert_data\u001B[49m\u001B[38;5;241;43m=\u001B[39;49m\u001B[38;5;28;43mself\u001B[39;49m\u001B[38;5;241;43m.\u001B[39;49m\u001B[43mca_cert_data\u001B[49m\u001B[43m,\u001B[49m\n\u001B[1;32m    427\u001B[0m \u001B[43m    \u001B[49m\u001B[43mserver_hostname\u001B[49m\u001B[38;5;241;43m=\u001B[39;49m\u001B[43mserver_hostname\u001B[49m\u001B[43m,\u001B[49m\n\u001B[1;32m    428\u001B[0m \u001B[43m    \u001B[49m\u001B[43mssl_context\u001B[49m\u001B[38;5;241;43m=\u001B[39;49m\u001B[43mcontext\u001B[49m\u001B[43m,\u001B[49m\n\u001B[1;32m    429\u001B[0m \u001B[43m    \u001B[49m\u001B[43mtls_in_tls\u001B[49m\u001B[38;5;241;43m=\u001B[39;49m\u001B[43mtls_in_tls\u001B[49m\u001B[43m,\u001B[49m\n\u001B[1;32m    430\u001B[0m \u001B[43m\u001B[49m\u001B[43m)\u001B[49m\n\u001B[1;32m    432\u001B[0m \u001B[38;5;66;03m# If we're using all defaults and the connection\u001B[39;00m\n\u001B[1;32m    433\u001B[0m \u001B[38;5;66;03m# is TLSv1 or TLSv1.1 we throw a DeprecationWarning\u001B[39;00m\n\u001B[1;32m    434\u001B[0m \u001B[38;5;66;03m# for the host.\u001B[39;00m\n\u001B[1;32m    435\u001B[0m \u001B[38;5;28;01mif\u001B[39;00m (\n\u001B[1;32m    436\u001B[0m     default_ssl_context\n\u001B[1;32m    437\u001B[0m     \u001B[38;5;129;01mand\u001B[39;00m \u001B[38;5;28mself\u001B[39m\u001B[38;5;241m.\u001B[39mssl_version \u001B[38;5;129;01mis\u001B[39;00m \u001B[38;5;28;01mNone\u001B[39;00m\n\u001B[1;32m    438\u001B[0m     \u001B[38;5;129;01mand\u001B[39;00m \u001B[38;5;28mhasattr\u001B[39m(\u001B[38;5;28mself\u001B[39m\u001B[38;5;241m.\u001B[39msock, \u001B[38;5;124m\"\u001B[39m\u001B[38;5;124mversion\u001B[39m\u001B[38;5;124m\"\u001B[39m)\n\u001B[1;32m    439\u001B[0m     \u001B[38;5;129;01mand\u001B[39;00m \u001B[38;5;28mself\u001B[39m\u001B[38;5;241m.\u001B[39msock\u001B[38;5;241m.\u001B[39mversion() \u001B[38;5;129;01min\u001B[39;00m {\u001B[38;5;124m\"\u001B[39m\u001B[38;5;124mTLSv1\u001B[39m\u001B[38;5;124m\"\u001B[39m, \u001B[38;5;124m\"\u001B[39m\u001B[38;5;124mTLSv1.1\u001B[39m\u001B[38;5;124m\"\u001B[39m}\n\u001B[1;32m    440\u001B[0m ):\n",
      "File \u001B[0;32m/Library/Frameworks/Python.framework/Versions/3.11/lib/python3.11/site-packages/urllib3/util/ssl_.py:449\u001B[0m, in \u001B[0;36mssl_wrap_socket\u001B[0;34m(sock, keyfile, certfile, cert_reqs, ca_certs, server_hostname, ssl_version, ciphers, ssl_context, ca_cert_dir, key_password, ca_cert_data, tls_in_tls)\u001B[0m\n\u001B[1;32m    437\u001B[0m     warnings\u001B[38;5;241m.\u001B[39mwarn(\n\u001B[1;32m    438\u001B[0m         \u001B[38;5;124m\"\u001B[39m\u001B[38;5;124mAn HTTPS request has been made, but the SNI (Server Name \u001B[39m\u001B[38;5;124m\"\u001B[39m\n\u001B[1;32m    439\u001B[0m         \u001B[38;5;124m\"\u001B[39m\u001B[38;5;124mIndication) extension to TLS is not available on this platform. \u001B[39m\u001B[38;5;124m\"\u001B[39m\n\u001B[0;32m   (...)\u001B[0m\n\u001B[1;32m    445\u001B[0m         SNIMissingWarning,\n\u001B[1;32m    446\u001B[0m     )\n\u001B[1;32m    448\u001B[0m \u001B[38;5;28;01mif\u001B[39;00m send_sni:\n\u001B[0;32m--> 449\u001B[0m     ssl_sock \u001B[38;5;241m=\u001B[39m \u001B[43m_ssl_wrap_socket_impl\u001B[49m\u001B[43m(\u001B[49m\n\u001B[1;32m    450\u001B[0m \u001B[43m        \u001B[49m\u001B[43msock\u001B[49m\u001B[43m,\u001B[49m\u001B[43m \u001B[49m\u001B[43mcontext\u001B[49m\u001B[43m,\u001B[49m\u001B[43m \u001B[49m\u001B[43mtls_in_tls\u001B[49m\u001B[43m,\u001B[49m\u001B[43m \u001B[49m\u001B[43mserver_hostname\u001B[49m\u001B[38;5;241;43m=\u001B[39;49m\u001B[43mserver_hostname\u001B[49m\n\u001B[1;32m    451\u001B[0m \u001B[43m    \u001B[49m\u001B[43m)\u001B[49m\n\u001B[1;32m    452\u001B[0m \u001B[38;5;28;01melse\u001B[39;00m:\n\u001B[1;32m    453\u001B[0m     ssl_sock \u001B[38;5;241m=\u001B[39m _ssl_wrap_socket_impl(sock, context, tls_in_tls)\n",
      "File \u001B[0;32m/Library/Frameworks/Python.framework/Versions/3.11/lib/python3.11/site-packages/urllib3/util/ssl_.py:493\u001B[0m, in \u001B[0;36m_ssl_wrap_socket_impl\u001B[0;34m(sock, ssl_context, tls_in_tls, server_hostname)\u001B[0m\n\u001B[1;32m    490\u001B[0m     \u001B[38;5;28;01mreturn\u001B[39;00m SSLTransport(sock, ssl_context, server_hostname)\n\u001B[1;32m    492\u001B[0m \u001B[38;5;28;01mif\u001B[39;00m server_hostname:\n\u001B[0;32m--> 493\u001B[0m     \u001B[38;5;28;01mreturn\u001B[39;00m \u001B[43mssl_context\u001B[49m\u001B[38;5;241;43m.\u001B[39;49m\u001B[43mwrap_socket\u001B[49m\u001B[43m(\u001B[49m\u001B[43msock\u001B[49m\u001B[43m,\u001B[49m\u001B[43m \u001B[49m\u001B[43mserver_hostname\u001B[49m\u001B[38;5;241;43m=\u001B[39;49m\u001B[43mserver_hostname\u001B[49m\u001B[43m)\u001B[49m\n\u001B[1;32m    494\u001B[0m \u001B[38;5;28;01melse\u001B[39;00m:\n\u001B[1;32m    495\u001B[0m     \u001B[38;5;28;01mreturn\u001B[39;00m ssl_context\u001B[38;5;241m.\u001B[39mwrap_socket(sock)\n",
      "File \u001B[0;32m/Library/Frameworks/Python.framework/Versions/3.11/lib/python3.11/ssl.py:517\u001B[0m, in \u001B[0;36mSSLContext.wrap_socket\u001B[0;34m(self, sock, server_side, do_handshake_on_connect, suppress_ragged_eofs, server_hostname, session)\u001B[0m\n\u001B[1;32m    511\u001B[0m \u001B[38;5;28;01mdef\u001B[39;00m \u001B[38;5;21mwrap_socket\u001B[39m(\u001B[38;5;28mself\u001B[39m, sock, server_side\u001B[38;5;241m=\u001B[39m\u001B[38;5;28;01mFalse\u001B[39;00m,\n\u001B[1;32m    512\u001B[0m                 do_handshake_on_connect\u001B[38;5;241m=\u001B[39m\u001B[38;5;28;01mTrue\u001B[39;00m,\n\u001B[1;32m    513\u001B[0m                 suppress_ragged_eofs\u001B[38;5;241m=\u001B[39m\u001B[38;5;28;01mTrue\u001B[39;00m,\n\u001B[1;32m    514\u001B[0m                 server_hostname\u001B[38;5;241m=\u001B[39m\u001B[38;5;28;01mNone\u001B[39;00m, session\u001B[38;5;241m=\u001B[39m\u001B[38;5;28;01mNone\u001B[39;00m):\n\u001B[1;32m    515\u001B[0m     \u001B[38;5;66;03m# SSLSocket class handles server_hostname encoding before it calls\u001B[39;00m\n\u001B[1;32m    516\u001B[0m     \u001B[38;5;66;03m# ctx._wrap_socket()\u001B[39;00m\n\u001B[0;32m--> 517\u001B[0m     \u001B[38;5;28;01mreturn\u001B[39;00m \u001B[38;5;28;43mself\u001B[39;49m\u001B[38;5;241;43m.\u001B[39;49m\u001B[43msslsocket_class\u001B[49m\u001B[38;5;241;43m.\u001B[39;49m\u001B[43m_create\u001B[49m\u001B[43m(\u001B[49m\n\u001B[1;32m    518\u001B[0m \u001B[43m        \u001B[49m\u001B[43msock\u001B[49m\u001B[38;5;241;43m=\u001B[39;49m\u001B[43msock\u001B[49m\u001B[43m,\u001B[49m\n\u001B[1;32m    519\u001B[0m \u001B[43m        \u001B[49m\u001B[43mserver_side\u001B[49m\u001B[38;5;241;43m=\u001B[39;49m\u001B[43mserver_side\u001B[49m\u001B[43m,\u001B[49m\n\u001B[1;32m    520\u001B[0m \u001B[43m        \u001B[49m\u001B[43mdo_handshake_on_connect\u001B[49m\u001B[38;5;241;43m=\u001B[39;49m\u001B[43mdo_handshake_on_connect\u001B[49m\u001B[43m,\u001B[49m\n\u001B[1;32m    521\u001B[0m \u001B[43m        \u001B[49m\u001B[43msuppress_ragged_eofs\u001B[49m\u001B[38;5;241;43m=\u001B[39;49m\u001B[43msuppress_ragged_eofs\u001B[49m\u001B[43m,\u001B[49m\n\u001B[1;32m    522\u001B[0m \u001B[43m        \u001B[49m\u001B[43mserver_hostname\u001B[49m\u001B[38;5;241;43m=\u001B[39;49m\u001B[43mserver_hostname\u001B[49m\u001B[43m,\u001B[49m\n\u001B[1;32m    523\u001B[0m \u001B[43m        \u001B[49m\u001B[43mcontext\u001B[49m\u001B[38;5;241;43m=\u001B[39;49m\u001B[38;5;28;43mself\u001B[39;49m\u001B[43m,\u001B[49m\n\u001B[1;32m    524\u001B[0m \u001B[43m        \u001B[49m\u001B[43msession\u001B[49m\u001B[38;5;241;43m=\u001B[39;49m\u001B[43msession\u001B[49m\n\u001B[1;32m    525\u001B[0m \u001B[43m    \u001B[49m\u001B[43m)\u001B[49m\n",
      "File \u001B[0;32m/Library/Frameworks/Python.framework/Versions/3.11/lib/python3.11/ssl.py:1075\u001B[0m, in \u001B[0;36mSSLSocket._create\u001B[0;34m(cls, sock, server_side, do_handshake_on_connect, suppress_ragged_eofs, server_hostname, context, session)\u001B[0m\n\u001B[1;32m   1072\u001B[0m         \u001B[38;5;28;01mif\u001B[39;00m timeout \u001B[38;5;241m==\u001B[39m \u001B[38;5;241m0.0\u001B[39m:\n\u001B[1;32m   1073\u001B[0m             \u001B[38;5;66;03m# non-blocking\u001B[39;00m\n\u001B[1;32m   1074\u001B[0m             \u001B[38;5;28;01mraise\u001B[39;00m \u001B[38;5;167;01mValueError\u001B[39;00m(\u001B[38;5;124m\"\u001B[39m\u001B[38;5;124mdo_handshake_on_connect should not be specified for non-blocking sockets\u001B[39m\u001B[38;5;124m\"\u001B[39m)\n\u001B[0;32m-> 1075\u001B[0m         \u001B[38;5;28;43mself\u001B[39;49m\u001B[38;5;241;43m.\u001B[39;49m\u001B[43mdo_handshake\u001B[49m\u001B[43m(\u001B[49m\u001B[43m)\u001B[49m\n\u001B[1;32m   1076\u001B[0m \u001B[38;5;28;01mexcept\u001B[39;00m (\u001B[38;5;167;01mOSError\u001B[39;00m, \u001B[38;5;167;01mValueError\u001B[39;00m):\n\u001B[1;32m   1077\u001B[0m     \u001B[38;5;28mself\u001B[39m\u001B[38;5;241m.\u001B[39mclose()\n",
      "File \u001B[0;32m/Library/Frameworks/Python.framework/Versions/3.11/lib/python3.11/ssl.py:1346\u001B[0m, in \u001B[0;36mSSLSocket.do_handshake\u001B[0;34m(self, block)\u001B[0m\n\u001B[1;32m   1344\u001B[0m     \u001B[38;5;28;01mif\u001B[39;00m timeout \u001B[38;5;241m==\u001B[39m \u001B[38;5;241m0.0\u001B[39m \u001B[38;5;129;01mand\u001B[39;00m block:\n\u001B[1;32m   1345\u001B[0m         \u001B[38;5;28mself\u001B[39m\u001B[38;5;241m.\u001B[39msettimeout(\u001B[38;5;28;01mNone\u001B[39;00m)\n\u001B[0;32m-> 1346\u001B[0m     \u001B[38;5;28;43mself\u001B[39;49m\u001B[38;5;241;43m.\u001B[39;49m\u001B[43m_sslobj\u001B[49m\u001B[38;5;241;43m.\u001B[39;49m\u001B[43mdo_handshake\u001B[49m\u001B[43m(\u001B[49m\u001B[43m)\u001B[49m\n\u001B[1;32m   1347\u001B[0m \u001B[38;5;28;01mfinally\u001B[39;00m:\n\u001B[1;32m   1348\u001B[0m     \u001B[38;5;28mself\u001B[39m\u001B[38;5;241m.\u001B[39msettimeout(timeout)\n",
      "\u001B[0;31mKeyboardInterrupt\u001B[0m: "
     ]
    }
   ],
   "source": [
    "import requests\n",
    "from bs4 import BeautifulSoup\n",
    "\n",
    "def get_content_from_link(link):\n",
    "    try:\n",
    "        # Send a GET request to the link\n",
    "        response = requests.get(link)\n",
    "        # Parse the HTML content of the page\n",
    "        soup = BeautifulSoup(response.content, 'html.parser')\n",
    "        # Find all <p> elements with the specified class for content\n",
    "        paragraphs = soup.find_all('p', class_='bbc-1gjryo4 e17g058b0')\n",
    "        # Print the content of each <p> element\n",
    "        for paragraph in paragraphs:\n",
    "            print(paragraph.text.strip())\n",
    "    except Exception as e:\n",
    "        print(f\"Error accessing {link}: {str(e)}\")\n",
    "\n",
    "def get_writer_from_link(link):\n",
    "    try:\n",
    "        # Send a GET request to the link\n",
    "        response = requests.get(link)\n",
    "        # Parse the HTML content of the page\n",
    "        soup = BeautifulSoup(response.content, 'html.parser')\n",
    "        # Find the <span> element with the writer information\n",
    "        writer = soup.find('span', class_='bbc-9scsxr')\n",
    "        # Print the writer if found\n",
    "        if writer:\n",
    "            print(writer.text.strip())\n",
    "        else:\n",
    "            print(\"Writer not found.\")\n",
    "    except Exception as e:\n",
    "        print(f\"Error accessing {link}: {str(e)}\")\n",
    "def main():\n",
    "    try:\n",
    "        # Send a GET request to the main page\n",
    "        response = requests.get(\"https://www.bbc.com/arabic\")\n",
    "        # Parse the HTML content of the page\n",
    "        soup = BeautifulSoup(response.content, 'html.parser')\n",
    "        # Find all links with the specified class\n",
    "        links = soup.find_all('a', class_='focusIndicatorDisplayBlock bbc-uk8dsi e1d658bg0')\n",
    "        # Find all times with the specified class\n",
    "        times = soup.find_all(\"time\", {'class': 'promo-timestamp bbc-1chh04s e1mklfmt0'})\n",
    "        # Extract the href attribute from each link\n",
    "        for i, link in enumerate(links):\n",
    "            # Get title from the current link\n",
    "            title = link.text.strip()\n",
    "            # Get time from the corresponding time element\n",
    "            time = times[i].text.strip()\n",
    "            # Print title and time\n",
    "            print(f\"Title: {title}\")\n",
    "            print(f\"Time: {time}\")\n",
    "            href = link.get('href')\n",
    "            # Visit each link and get the content\n",
    "            print(\"Writer:\")\n",
    "            get_writer_from_link(href)\n",
    "            print(\"Content:\")\n",
    "            get_content_from_link(href)\n",
    "            print(\"\\n\")\n",
    "    except Exception as e:\n",
    "        print(f\"Error: {str(e)}\")\n",
    "\n",
    "if __name__ == \"__main__\":\n",
    "    main()\n"
   ],
   "metadata": {
    "collapsed": false,
    "ExecuteTime": {
     "end_time": "2024-04-07T04:19:44.347281Z",
     "start_time": "2024-04-07T04:19:43.219609Z"
    }
   },
   "id": "c60914a4fe50d204"
  },
  {
   "cell_type": "code",
   "execution_count": null,
   "outputs": [],
   "source": [
    "from pymongo import MongoClient"
   ],
   "metadata": {
    "collapsed": false,
    "ExecuteTime": {
     "end_time": "2024-04-07T04:19:44.348650Z",
     "start_time": "2024-04-07T04:19:44.348584Z"
    }
   },
   "id": "84c3ff538be0949c"
  },
  {
   "cell_type": "code",
   "execution_count": null,
   "outputs": [],
   "source": [
    "import requests\n",
    "from bs4 import BeautifulSoup\n",
    "from pymongo import MongoClient\n",
    "\n",
    "# Function to extract content from the link\n",
    "def get_content_from_link(link):\n",
    "    try:\n",
    "        response = requests.get(link)\n",
    "        soup = BeautifulSoup(response.content, 'html.parser')\n",
    "        paragraphs = soup.find_all('p', class_='bbc-1gjryo4 e17g058b0')\n",
    "        content = '\\n'.join(paragraph.text.strip() for paragraph in paragraphs)\n",
    "        return content\n",
    "    except Exception as e:\n",
    "        print(f\"Error accessing {link}: {str(e)}\")\n",
    "        return None\n",
    "\n",
    "# Function to extract writer from the link\n",
    "def get_writer_from_link(link):\n",
    "    try:\n",
    "        response = requests.get(link)\n",
    "        soup = BeautifulSoup(response.content, 'html.parser')\n",
    "        writer = soup.find('span', class_='YOUR_WRITER_CLASS_NAME')\n",
    "        return writer.text.strip() if writer else None\n",
    "    except Exception as e:\n",
    "        print(f\"Error accessing {link}: {str(e)}\")\n",
    "        return None\n",
    "\n",
    "def main():\n",
    "    try:\n",
    "        # Connect to MongoDB\n",
    "        client = MongoClient('localhost', 27017)\n",
    "        db = client['bbc_articles']\n",
    "        collection = db['articles']\n",
    "\n",
    "        response = requests.get(\"https://www.bbc.com/arabic\")\n",
    "        soup = BeautifulSoup(response.content, 'html.parser')\n",
    "        links = soup.find_all('a', class_='focusIndicatorDisplayBlock bbc-uk8dsi e1d658bg0')\n",
    "        times = soup.find_all(\"time\", {'class': 'promo-timestamp bbc-1chh04s e1mklfmt0'})\n",
    "\n",
    "        for i, link in enumerate(links):\n",
    "            title = link.text.strip()\n",
    "            time = times[i].text.strip()\n",
    "            href = link.get('href')\n",
    "            content = get_content_from_link(href)\n",
    "            writer = get_writer_from_link(href)\n",
    "\n",
    "            # Insert data into MongoDB collection\n",
    "            data = {\n",
    "                'title': title,\n",
    "                'time': time,\n",
    "                'content': content,\n",
    "                'writer': writer,\n",
    "                'link': href\n",
    "            }\n",
    "            collection.insert_one(data)\n",
    "            print(f\"Article {i + 1} inserted into MongoDB.\")\n",
    "    except Exception as e:\n",
    "        print(f\"Error: {str(e)}\")\n",
    "\n",
    "if __name__ == \"__main__\":\n",
    "    main()\n"
   ],
   "metadata": {
    "collapsed": false,
    "ExecuteTime": {
     "end_time": "2024-04-07T04:19:44.359013Z",
     "start_time": "2024-04-07T04:19:44.350052Z"
    }
   },
   "id": "28f14f50b4cb52ac"
  },
  {
   "cell_type": "code",
   "execution_count": 1,
   "outputs": [
    {
     "name": "stdout",
     "output_type": "stream",
     "text": [
      "Article 1 inserted into MongoDB.\n",
      "Article 2 inserted into MongoDB.\n",
      "Article 3 inserted into MongoDB.\n",
      "Article 4 inserted into MongoDB.\n",
      "Article 5 inserted into MongoDB.\n",
      "Article 6 inserted into MongoDB.\n",
      "Article 7 inserted into MongoDB.\n",
      "Article 8 inserted into MongoDB.\n",
      "Article 9 inserted into MongoDB.\n",
      "Article 10 inserted into MongoDB.\n",
      "Article 11 inserted into MongoDB.\n",
      "Article 12 inserted into MongoDB.\n",
      "Article 13 inserted into MongoDB.\n",
      "Article 14 inserted into MongoDB.\n",
      "Article 15 inserted into MongoDB.\n",
      "Article 16 inserted into MongoDB.\n",
      "Article 17 inserted into MongoDB.\n",
      "Article 18 inserted into MongoDB.\n",
      "Article 19 inserted into MongoDB.\n",
      "Article 20 inserted into MongoDB.\n",
      "Article 21 inserted into MongoDB.\n",
      "Article 22 inserted into MongoDB.\n",
      "Article 23 inserted into MongoDB.\n",
      "Article 24 inserted into MongoDB.\n",
      "Article 25 inserted into MongoDB.\n",
      "Article 26 inserted into MongoDB.\n",
      "Article 27 inserted into MongoDB.\n",
      "Article 28 inserted into MongoDB.\n",
      "Article 29 inserted into MongoDB.\n",
      "Article 30 inserted into MongoDB.\n",
      "Article 31 inserted into MongoDB.\n",
      "Article 32 inserted into MongoDB.\n",
      "Article 33 inserted into MongoDB.\n",
      "Article 34 inserted into MongoDB.\n",
      "Article 35 inserted into MongoDB.\n",
      "Article 36 inserted into MongoDB.\n",
      "Article 37 inserted into MongoDB.\n",
      "Article 38 inserted into MongoDB.\n",
      "Article 39 inserted into MongoDB.\n",
      "Article 40 inserted into MongoDB.\n",
      "Article 41 inserted into MongoDB.\n",
      "Article 42 inserted into MongoDB.\n",
      "Article 43 inserted into MongoDB.\n",
      "Article 44 inserted into MongoDB.\n",
      "Article 45 inserted into MongoDB.\n",
      "Article 46 inserted into MongoDB.\n",
      "Article 47 inserted into MongoDB.\n",
      "Article 48 inserted into MongoDB.\n",
      "Article 49 inserted into MongoDB.\n",
      "Article 50 inserted into MongoDB.\n",
      "Article 51 inserted into MongoDB.\n",
      "Article 52 inserted into MongoDB.\n",
      "Article 53 inserted into MongoDB.\n",
      "Article 54 inserted into MongoDB.\n",
      "Article 55 inserted into MongoDB.\n",
      "Article 56 inserted into MongoDB.\n",
      "Error: list index out of range\n"
     ]
    }
   ],
   "source": [
    "import requests\n",
    "from bs4 import BeautifulSoup\n",
    "from pymongo import MongoClient\n",
    "\n",
    "def get_content_from_link(link):\n",
    "    try:\n",
    "        # Send a GET request to the link\n",
    "        response = requests.get(link)\n",
    "        # Parse the HTML content of the page\n",
    "        soup = BeautifulSoup(response.content, 'html.parser')\n",
    "        # Find all <p> elements with the specified class for content\n",
    "        paragraphs = soup.find_all('p', class_='bbc-1gjryo4 e17g058b0')\n",
    "        # Concatenate the text of all paragraphs\n",
    "        content = ' '.join(paragraph.text.strip() for paragraph in paragraphs)\n",
    "        return content\n",
    "    except Exception as e:\n",
    "        print(f\"Error accessing {link}: {str(e)}\")\n",
    "        return None\n",
    "\n",
    "def get_writer_from_link(link):\n",
    "    try:\n",
    "        # Send a GET request to the link\n",
    "        response = requests.get(link)\n",
    "        # Parse the HTML content of the page\n",
    "        soup = BeautifulSoup(response.content, 'html.parser')\n",
    "        # Find the writer info\n",
    "        writer = soup.find('span', class_='bbc-9scsxr')\n",
    "        return writer.text.strip() if writer else None\n",
    "    except Exception as e:\n",
    "        print(f\"Error accessing {link}: {str(e)}\")\n",
    "        return None\n",
    "\n",
    "def main():\n",
    "    try:\n",
    "        # Connect to MongoDB\n",
    "        client = MongoClient('localhost', 27017)\n",
    "        # Create or access the \"Atelier1\" database\n",
    "        db = client['Atelier1']\n",
    "        # Access the collection where the data will be stored\n",
    "        collection = db['articles']\n",
    "        \n",
    "        # Send a GET request to the main page\n",
    "        response = requests.get(\"https://www.bbc.com/arabic\")\n",
    "        # Parse the HTML content of the page\n",
    "        soup = BeautifulSoup(response.content, 'html.parser')\n",
    "        # Find all links with the specified class\n",
    "        links = soup.find_all('a', class_='focusIndicatorDisplayBlock bbc-uk8dsi e1d658bg0')\n",
    "        # Find all times with the specified class\n",
    "        times = soup.find_all(\"time\", {'class': 'promo-timestamp bbc-1chh04s e1mklfmt0'})\n",
    "        # Extract the href attribute from each link\n",
    "        for i, link in enumerate(links):\n",
    "            # Get title from the current link\n",
    "            title = link.text.strip()\n",
    "            # Get time from the corresponding time element\n",
    "            time = times[i].text.strip()\n",
    "            href = link.get('href')\n",
    "            # Get content and writer\n",
    "            content = get_content_from_link(href)\n",
    "            writer = get_writer_from_link(href)\n",
    "            # Insert into MongoDB\n",
    "            article = {\n",
    "                'title': title,\n",
    "                'time': time,\n",
    "                'content': content,\n",
    "                'writer': writer\n",
    "            }\n",
    "            collection.insert_one(article)\n",
    "            print(f\"Article {i+1} inserted into MongoDB.\")\n",
    "    except Exception as e:\n",
    "        print(f\"Error: {str(e)}\")\n",
    "\n",
    "if __name__ == \"__main__\":\n",
    "    main()"
   ],
   "metadata": {
    "collapsed": false,
    "ExecuteTime": {
     "end_time": "2024-04-07T04:59:42.394510Z",
     "start_time": "2024-04-07T04:58:52.408124Z"
    }
   },
   "id": "c5314dc6a3234add"
  },
  {
   "cell_type": "code",
   "execution_count": null,
   "outputs": [],
   "source": [],
   "metadata": {
    "collapsed": false
   },
   "id": "9b89574c3e8ca6b4"
  }
 ],
 "metadata": {
  "kernelspec": {
   "display_name": "Python 3",
   "language": "python",
   "name": "python3"
  },
  "language_info": {
   "codemirror_mode": {
    "name": "ipython",
    "version": 2
   },
   "file_extension": ".py",
   "mimetype": "text/x-python",
   "name": "python",
   "nbconvert_exporter": "python",
   "pygments_lexer": "ipython2",
   "version": "2.7.6"
  }
 },
 "nbformat": 4,
 "nbformat_minor": 5
}
